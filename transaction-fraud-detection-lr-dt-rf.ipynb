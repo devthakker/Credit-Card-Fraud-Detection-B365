{
 "cells": [
  {
   "cell_type": "markdown",
   "id": "9364f2bd",
   "metadata": {
    "papermill": {
     "duration": 0.004055,
     "end_time": "2023-10-19T14:46:12.510205",
     "exception": false,
     "start_time": "2023-10-19T14:46:12.506150",
     "status": "completed"
    },
    "tags": []
   },
   "source": [
    "Importing Libraries"
   ]
  },
  {
   "cell_type": "code",
   "execution_count": 46,
   "id": "cc2885b1",
   "metadata": {
    "execution": {
     "iopub.execute_input": "2023-10-19T14:46:12.521264Z",
     "iopub.status.busy": "2023-10-19T14:46:12.520706Z",
     "iopub.status.idle": "2023-10-19T14:46:14.602805Z",
     "shell.execute_reply": "2023-10-19T14:46:14.601699Z"
    },
    "papermill": {
     "duration": 2.089476,
     "end_time": "2023-10-19T14:46:14.605293",
     "exception": false,
     "start_time": "2023-10-19T14:46:12.515817",
     "status": "completed"
    },
    "tags": []
   },
   "outputs": [],
   "source": [
    "import numpy as np\n",
    "import pandas as pd \n",
    "from sklearn.linear_model import LogisticRegression, LinearRegression\n",
    "from sklearn.metrics import accuracy_score, classification_report, r2_score, mean_squared_error, mean_absolute_error, confusion_matrix\n",
    "from sklearn.preprocessing import StandardScaler"
   ]
  },
  {
   "cell_type": "code",
   "execution_count": 47,
   "id": "9950b8a5",
   "metadata": {
    "execution": {
     "iopub.execute_input": "2023-10-19T14:46:14.621553Z",
     "iopub.status.busy": "2023-10-19T14:46:14.620913Z",
     "iopub.status.idle": "2023-10-19T14:46:32.681421Z",
     "shell.execute_reply": "2023-10-19T14:46:32.680294Z"
    },
    "papermill": {
     "duration": 18.067701,
     "end_time": "2023-10-19T14:46:32.683712",
     "exception": false,
     "start_time": "2023-10-19T14:46:14.616011",
     "status": "completed"
    },
    "tags": []
   },
   "outputs": [],
   "source": [
    "train_df = pd.read_csv(\"fraudTrain.csv\")\n",
    "test_df = pd.read_csv(\"fraudTest.csv\")\n",
    "\n",
    "train_df.dropna(inplace=True)\n",
    "test_df.dropna(inplace=True)"
   ]
  },
  {
   "cell_type": "code",
   "execution_count": 48,
   "id": "c7704691",
   "metadata": {
    "execution": {
     "iopub.execute_input": "2023-10-19T14:46:33.419701Z",
     "iopub.status.busy": "2023-10-19T14:46:33.419330Z",
     "iopub.status.idle": "2023-10-19T14:46:33.429498Z",
     "shell.execute_reply": "2023-10-19T14:46:33.428562Z"
    },
    "papermill": {
     "duration": 0.018121,
     "end_time": "2023-10-19T14:46:33.431436",
     "exception": false,
     "start_time": "2023-10-19T14:46:33.413315",
     "status": "completed"
    },
    "tags": []
   },
   "outputs": [],
   "source": [
    "def data_pre(X):\n",
    "    # These columns are presumably considered irrelevant for the analysis\n",
    "    del_col=['merchant','first','last','street','zip','unix_time','Unnamed: 0','trans_num','cc_num']\n",
    "    X.drop(columns=del_col,inplace=True)\n",
    "   \n",
    "    # Data Conversion \n",
    "    # The trans_date_trans_time column is then used to create a new column \n",
    "    # trans_date that contains only the date part in the 'YYYY-MM-DD' format.\n",
    "    X['trans_date_trans_time']=pd.to_datetime(X['trans_date_trans_time'])\n",
    "    X['trans_date']=X['trans_date_trans_time'].dt.strftime('%Y-%m-%d')\n",
    "    X['trans_date']=pd.to_datetime(X['trans_date'])\n",
    "    X['dob']=pd.to_datetime(X['dob'])\n",
    "    \n",
    "    #Calculate Age of each transaction\n",
    "    X[\"age\"] = (X[\"trans_date\"] - X[\"dob\"]).dt.days //365\n",
    "    X['trans_month']=X['trans_date'].dt.month\n",
    "    X['trans_year']=X['trans_date'].dt.year\n",
    "    \n",
    "    # The gender column is transformed to binary values where \n",
    "    # 'M' (presumably for males) is converted to 1, and other values are converted to 0.\n",
    "    X['gender']=X['gender'].apply(lambda x : 1 if x=='M' else 0)\n",
    "    X['gender']=X['gender'].astype(int)\n",
    "    \n",
    "    # The lat_dis and long_dis columns are created to calculate the absolute \n",
    "    # differences between the latitude (lat) and merchant latitude (merch_lat)\n",
    "    # as well as the longitude (long) and merchant longitude (merch_long).\n",
    "    X['lat_dis']=abs(X['lat']-X['merch_lat'])\n",
    "    X['long_dis']=abs(X['long']-X['merch_long'])\n",
    "    \n",
    "    # The function applies one-hot encoding to the category column to convert categorical variables\n",
    "    # into binary indicators. This is achieved using pd.get_dummies.\n",
    "    X=pd.get_dummies(X,columns=['category'])\n",
    "    X=X.drop(columns=['city','trans_date_trans_time','state','job','merch_lat','merch_long','lat','long','dob','trans_date'])\n",
    "    return X\n",
    "    "
   ]
  },
  {
   "cell_type": "code",
   "execution_count": 49,
   "id": "731943ae",
   "metadata": {
    "execution": {
     "iopub.execute_input": "2023-10-19T14:46:33.441787Z",
     "iopub.status.busy": "2023-10-19T14:46:33.441440Z",
     "iopub.status.idle": "2023-10-19T14:46:38.512907Z",
     "shell.execute_reply": "2023-10-19T14:46:38.511844Z"
    },
    "papermill": {
     "duration": 5.079213,
     "end_time": "2023-10-19T14:46:38.515034",
     "exception": false,
     "start_time": "2023-10-19T14:46:33.435821",
     "status": "completed"
    },
    "tags": []
   },
   "outputs": [
    {
     "data": {
      "text/plain": [
       "Index(['amt', 'gender', 'city_pop', 'is_fraud', 'age', 'trans_month',\n",
       "       'trans_year', 'lat_dis', 'long_dis', 'category_entertainment',\n",
       "       'category_food_dining', 'category_gas_transport',\n",
       "       'category_grocery_net', 'category_grocery_pos',\n",
       "       'category_health_fitness', 'category_home', 'category_kids_pets',\n",
       "       'category_misc_net', 'category_misc_pos', 'category_personal_care',\n",
       "       'category_shopping_net', 'category_shopping_pos', 'category_travel'],\n",
       "      dtype='object')"
      ]
     },
     "execution_count": 49,
     "metadata": {},
     "output_type": "execute_result"
    }
   ],
   "source": [
    "train_df_pre=data_pre(train_df.copy())\n",
    "train_df_pre.head()\n",
    "test_df_pre=data_pre(test_df.copy())\n",
    "test_df_pre.head()\n",
    "\n",
    "test_df_pre.columns"
   ]
  },
  {
   "cell_type": "markdown",
   "id": "a35bd4d5",
   "metadata": {
    "papermill": {
     "duration": 0.004774,
     "end_time": "2023-10-19T14:46:38.524428",
     "exception": false,
     "start_time": "2023-10-19T14:46:38.519654",
     "status": "completed"
    },
    "tags": []
   },
   "source": [
    "DataSet Split"
   ]
  },
  {
   "cell_type": "code",
   "execution_count": 50,
   "id": "321912eb",
   "metadata": {
    "execution": {
     "iopub.execute_input": "2023-10-19T14:46:38.535366Z",
     "iopub.status.busy": "2023-10-19T14:46:38.534257Z",
     "iopub.status.idle": "2023-10-19T14:46:38.604784Z",
     "shell.execute_reply": "2023-10-19T14:46:38.603412Z"
    },
    "papermill": {
     "duration": 0.078999,
     "end_time": "2023-10-19T14:46:38.607734",
     "exception": false,
     "start_time": "2023-10-19T14:46:38.528735",
     "status": "completed"
    },
    "tags": []
   },
   "outputs": [],
   "source": [
    "x_train=train_df_pre.drop('is_fraud',axis=1)\n",
    "y_train=train_df_pre['is_fraud']\n",
    "x_test=test_df_pre.drop('is_fraud',axis=1)\n",
    "y_test=test_df_pre['is_fraud']"
   ]
  },
  {
   "cell_type": "markdown",
   "id": "dfc88b51",
   "metadata": {
    "papermill": {
     "duration": 0.004434,
     "end_time": "2023-10-19T14:46:38.617334",
     "exception": false,
     "start_time": "2023-10-19T14:46:38.612900",
     "status": "completed"
    },
    "tags": []
   },
   "source": [
    "Feature Scaling"
   ]
  },
  {
   "cell_type": "code",
   "execution_count": 51,
   "id": "3048213d",
   "metadata": {
    "execution": {
     "iopub.execute_input": "2023-10-19T14:46:38.627972Z",
     "iopub.status.busy": "2023-10-19T14:46:38.627627Z",
     "iopub.status.idle": "2023-10-19T14:46:40.893642Z",
     "shell.execute_reply": "2023-10-19T14:46:40.892610Z"
    },
    "papermill": {
     "duration": 2.274191,
     "end_time": "2023-10-19T14:46:40.896095",
     "exception": false,
     "start_time": "2023-10-19T14:46:38.621904",
     "status": "completed"
    },
    "tags": []
   },
   "outputs": [],
   "source": [
    "# Step 1: Fit the StandardScaler on the training data\n",
    "# The StandardScaler is a transformer from the scikit-learn library \n",
    "# that scales features to have zero mean and unit variance.\n",
    "scaler = StandardScaler()\n",
    "scaler.fit(x_train)\n",
    "x_train=scaler.transform(x_train)\n",
    "x_test=scaler.transform(x_test)\n"
   ]
  },
  {
   "cell_type": "markdown",
   "id": "761a97f0",
   "metadata": {
    "papermill": {
     "duration": 0.004396,
     "end_time": "2023-10-19T14:46:40.905071",
     "exception": false,
     "start_time": "2023-10-19T14:46:40.900675",
     "status": "completed"
    },
    "tags": []
   },
   "source": [
    "Logistic Regression Model"
   ]
  },
  {
   "cell_type": "code",
   "execution_count": 56,
   "id": "7ce924eb",
   "metadata": {
    "execution": {
     "iopub.execute_input": "2023-10-19T14:46:40.915757Z",
     "iopub.status.busy": "2023-10-19T14:46:40.915419Z",
     "iopub.status.idle": "2023-10-19T14:46:47.695994Z",
     "shell.execute_reply": "2023-10-19T14:46:47.694777Z"
    },
    "papermill": {
     "duration": 6.788863,
     "end_time": "2023-10-19T14:46:47.698527",
     "exception": false,
     "start_time": "2023-10-19T14:46:40.909664",
     "status": "completed"
    },
    "tags": []
   },
   "outputs": [
    {
     "name": "stdout",
     "output_type": "stream",
     "text": [
      "Mean squared error: 0.0037\n",
      "Mean absolute error: 0.0103\n",
      "R2 score: 0.0284\n",
      "Accuracy score: 0.9960\n",
      "Confusion matrix: \n",
      " [[553515     54      5]\n",
      " [  2145      0      0]\n",
      " [     0      0      0]]\n"
     ]
    }
   ],
   "source": [
    "logistic_regression=LinearRegression()\n",
    "logistic_regression.fit(x_train,y_train)\n",
    "y_pred_logistic = logistic_regression.predict(x_test)\n",
    "\n",
    "print(\"Mean squared error: %.4f\" % mean_squared_error(y_test, y_pred_logistic))\n",
    "print(\"Mean absolute error: %.4f\" % mean_absolute_error(y_test, y_pred_logistic))\n",
    "print(\"R2 score: %.4f\" % r2_score(y_test, y_pred_logistic))\n",
    "print(\"Accuracy score: %.4f\" % accuracy_score(y_test, y_pred_logistic.round()))\n",
    "print(\"Confusion matrix: \\n\", confusion_matrix(y_test, y_pred_logistic.round()))\n",
    "\n",
    "\n"
   ]
  }
 ],
 "metadata": {
  "kernelspec": {
   "display_name": "Python 3",
   "language": "python",
   "name": "python3"
  },
  "language_info": {
   "codemirror_mode": {
    "name": "ipython",
    "version": 3
   },
   "file_extension": ".py",
   "mimetype": "text/x-python",
   "name": "python",
   "nbconvert_exporter": "python",
   "pygments_lexer": "ipython3",
   "version": "3.11.1"
  },
  "papermill": {
   "default_parameters": {},
   "duration": 333.022326,
   "end_time": "2023-10-19T14:51:42.169768",
   "environment_variables": {},
   "exception": null,
   "input_path": "__notebook__.ipynb",
   "output_path": "__notebook__.ipynb",
   "parameters": {},
   "start_time": "2023-10-19T14:46:09.147442",
   "version": "2.4.0"
  }
 },
 "nbformat": 4,
 "nbformat_minor": 5
}
